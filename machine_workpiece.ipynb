{
 "cells": [
  {
   "cell_type": "markdown",
   "metadata": {},
   "source": [
    "# This notebook demonstrates how a stock workpiece is beeing machined virtually"
   ]
  },
  {
   "cell_type": "markdown",
   "metadata": {},
   "source": [
    "First of all, all the necessary python libraries are imported. _clear_pro_ contains my own developed functions. _spatialmath_ is a library for spatial matrices."
   ]
  },
  {
   "cell_type": "code",
   "execution_count": 1,
   "metadata": {},
   "outputs": [
    {
     "name": "stdout",
     "output_type": "stream",
     "text": [
      "Jupyter environment detected. Enabling Open3D WebVisualizer.\n",
      "[Open3D INFO] WebRTC GUI backend enabled.\n",
      "[Open3D INFO] WebRTCWindowSystem: HTTP handshake server disabled.\n"
     ]
    }
   ],
   "source": [
    "import src.clear_pro as cp\n",
    "from spatialmath import *"
   ]
  },
  {
   "cell_type": "markdown",
   "metadata": {},
   "source": [
    "Then an ini-file is imported that contains the ideal/nominal robot model parameters. Ideal/nominal denotes the angle and lenght specifications as they are found in the robot data sheet for example."
   ]
  },
  {
   "cell_type": "code",
   "execution_count": 2,
   "metadata": {},
   "outputs": [
    {
     "name": "stdout",
     "output_type": "stream",
     "text": [
      "Name       Value      Min      Max   Stderr     Vary     Expr Brute_Step\n",
      "a1           0.4     0.35     0.55     None    False     None     None\n",
      "a2          0.86     0.85     0.87     None    False     None     None\n",
      "a3         -0.21    -0.22     -0.2     None    False     None     None\n",
      "a4             0     -0.1      0.1     None    False     None     None\n",
      "a5             0     -0.1      0.1     None    False     None     None\n",
      "a6             0     -0.1      0.1     None    False     None     None\n",
      "alpha1       -90     -100      -80     None    False     None     None\n",
      "alpha2         0      -10       10     None    False     None     None\n",
      "alpha3        90       80      100     None    False     None     None\n",
      "alpha4        90       80      100     None    False     None     None\n",
      "alpha5       -90     -100      -80     None    False     None     None\n",
      "alpha6         0      -10       10     None    False     None     None\n",
      "baserx         0      -10       10     None    False     None     None\n",
      "basery         0      -10       10     None    False     None     None\n",
      "baserz         0      -10       10     None    False     None     None\n",
      "basetx         0     -0.1      0.1     None    False     None     None\n",
      "basety         0     -0.1      0.1     None    False     None     None\n",
      "basetz         0     -0.1      0.1     None    False     None     None\n",
      "d1          0.55     0.45     0.65     None    False     None     None\n",
      "d2             0     -0.1      0.1     None    False     None     None\n",
      "d3             0     -0.1      0.1     None    False     None     None\n",
      "d4         0.762    0.752    0.772     None    False     None     None\n",
      "d5             0     -0.1      0.1     None    False     None     None\n",
      "d6          0.21     0.11     0.31     None    False     None     None\n",
      "theta1         0      -10       10     None     True     None     None\n",
      "theta2       -90     -100      -80     None     True     None     None\n",
      "theta3       180      170      190     None     True     None     None\n",
      "theta4       180      170      190     None     True     None     None\n",
      "theta5         0      -10       10     None     True     None     None\n",
      "theta6       -90     -100      -80     None     True     None     None\n",
      "toolrx       -90     -100      -80     None    False     None     None\n",
      "toolry       -90     -100      -80     None    False     None     None\n",
      "toolrz         0      -10       10     None    False     None     None\n",
      "tooltx       0.1        0      0.2     None    False     None     None\n",
      "toolty      -0.3     -0.4     -0.2     None    False     None     None\n",
      "tooltz         0     -0.1      0.1     None    False     None     None\n"
     ]
    }
   ],
   "source": [
    "# instantiation of Parameter object\n",
    "parameters = cp.Parameters()\n",
    "parameters_ideal = parameters.read_parameters(\n",
    "    'data/parameter/ideal_parameters.ini'\n",
    "    )\n",
    "parameters_ideal.pretty_print()"
   ]
  },
  {
   "cell_type": "markdown",
   "metadata": {},
   "source": [
    "Following an ini-file containing the real/physical robot model parameters. Those parameters differ from the ideal/nominal parameters because of influences, such as manufacturing tolerances, assembly errors and thermal effects during operation."
   ]
  },
  {
   "cell_type": "code",
   "execution_count": 3,
   "metadata": {},
   "outputs": [
    {
     "name": "stdout",
     "output_type": "stream",
     "text": [
      "\n",
      "\n",
      "Parameters ideal / real:\n",
      "-----------------------------\n",
      "theta1: 0.000 / theta1: 0.000\n",
      "theta2: -90.000 / theta2: -90.000\n",
      "theta3: 180.000 / theta3: 180.000\n",
      "theta4: 180.000 / theta4: 180.000\n",
      "theta5: 0.000 / theta5: 0.000\n",
      "theta6: -90.000 / theta6: -90.000\n"
     ]
    }
   ],
   "source": [
    "parameters_real = parameters.read_parameters(\n",
    "    'data/parameter/real_parameters.ini'\n",
    "    )\n",
    "# contrast variing parameters\n",
    "parameters.contrast_parameters(ideal=parameters_ideal, real=parameters_real)"
   ]
  },
  {
   "cell_type": "markdown",
   "metadata": {},
   "source": [
    "Next the stock workpiece _stock.stl_ is loaded and the result file for the machined workpiece is configured (_result.stl_). Also the position of the workpiece in the robot base frame is specified."
   ]
  },
  {
   "cell_type": "code",
   "execution_count": 4,
   "metadata": {},
   "outputs": [
    {
     "name": "stdout",
     "output_type": "stream",
     "text": [
      "\n",
      "\n",
      "Workpiece class object instantiated\n"
     ]
    }
   ],
   "source": [
    "# instantiation of Workpiece object\n",
    "workpiece = cp.Workpiece(\n",
    "    'data/stl/stock.stl',\n",
    "    'data/stl/result.stl',\n",
    "    SE3([1000e-3, 0, 1000e-3])*SE3.AngleAxis(0, [0, 0, 0], unit='deg')\n",
    "    )"
   ]
  },
  {
   "cell_type": "markdown",
   "metadata": {},
   "source": [
    "Then the tool properties are specified."
   ]
  },
  {
   "cell_type": "code",
   "execution_count": 5,
   "metadata": {},
   "outputs": [
    {
     "name": "stdout",
     "output_type": "stream",
     "text": [
      "\n",
      "\n",
      "Tool class object instantiated\n"
     ]
    }
   ],
   "source": [
    "# instantiation of Tool object\n",
    "tool = cp.Tool(\n",
    "    diameter=9,\n",
    "    flute_length=40     \n",
    ")"
   ]
  },
  {
   "cell_type": "markdown",
   "metadata": {},
   "source": [
    "Now the tool path is loaded. It is provided as an nc file, which was created with a CAD/CAM tool. This tool path is then transformed from the workpiece to the robot base frame using the workpiece position defined above."
   ]
  },
  {
   "cell_type": "code",
   "execution_count": 6,
   "metadata": {},
   "outputs": [
    {
     "name": "stdout",
     "output_type": "stream",
     "text": [
      "\n",
      "\n",
      "NC program read in\n",
      "\n",
      "\n",
      "Toolpath transformed from workpiece frame to robot base frame\n"
     ]
    }
   ],
   "source": [
    "# instantiation of Toolpath object\n",
    "toolpath = cp.Toolpath()\n",
    "toolpath_w = toolpath.read_nc(\n",
    "    'data/toolpath/1_circle.nc'\n",
    "    )\n",
    "# transform toolpath from workpiece coordinate frame to robot base frame\n",
    "toolpath_rb = toolpath.transform_to_base(\n",
    "    toolpath_w, workpiece\n",
    "    )"
   ]
  },
  {
   "cell_type": "markdown",
   "metadata": {},
   "source": [
    "Finally the simulation is prepared providing the simulation class object with all the robot model parameters, the workpiece, the tool and the tool path."
   ]
  },
  {
   "cell_type": "code",
   "execution_count": 7,
   "metadata": {},
   "outputs": [
    {
     "name": "stderr",
     "output_type": "stream",
     "text": [
      "d:\\Berechnungen\\python\\projects\\BMBF-CLeaR-Pro\\src\\clear_pro.py:242: RuntimeWarning: invalid value encountered in arccos\n",
      "  dq4norm = np.arccos(y3_0 @ c_0)\n"
     ]
    },
    {
     "name": "stdout",
     "output_type": "stream",
     "text": [
      "\n",
      "\n",
      "calculation time (inverse transformation): 1.524s\n",
      "\n",
      "\n",
      "Simulation class object instantiated\n"
     ]
    }
   ],
   "source": [
    "# instantiation of Simulation object\n",
    "simulation = cp.Simulation(\n",
    "    [parameters_ideal, parameters_real],\n",
    "    workpiece,\n",
    "    tool,\n",
    "    toolpath_rb,\n",
    "    import_precision=100\n",
    "    )"
   ]
  },
  {
   "cell_type": "markdown",
   "metadata": {},
   "source": [
    "Finally the material removal simulation is executed."
   ]
  },
  {
   "cell_type": "markdown",
   "metadata": {},
   "source": []
  },
  {
   "cell_type": "code",
   "execution_count": 8,
   "metadata": {},
   "outputs": [
    {
     "name": "stdout",
     "output_type": "stream",
     "text": [
      "\n",
      "\n",
      "calculation time (removal simulation): 10.065s\n",
      "\n",
      "\n",
      "calculation time (sampling): 2.143s\n",
      "\n",
      "\n",
      "calculation time (voxel grid): 11.020s\n",
      "\n",
      "\n",
      "Material removal simulation executed\n"
     ]
    }
   ],
   "source": [
    "pcd, mesh, grid = simulation.do_cut(\n",
    "    parameters_real,\n",
    "    is_pcd=True,\n",
    "    is_voxel_grid=True,\n",
    "    npoints=10000,\n",
    "    nvoxels=50,  \n",
    "    is_delete=True,  \n",
    "    is_print=True\n",
    "    ) "
   ]
  },
  {
   "cell_type": "markdown",
   "metadata": {},
   "source": [
    "Here the resulting point cloud is visualized."
   ]
  },
  {
   "cell_type": "markdown",
   "metadata": {},
   "source": []
  },
  {
   "cell_type": "code",
   "execution_count": 10,
   "metadata": {},
   "outputs": [],
   "source": [
    "# instantiation of Visualization object\n",
    "visu = cp.Visualization(simulation, workpiece, tool)\n",
    "visu.plot_pcd_mesh_grid(\n",
    "    objs=[\n",
    "        pcd,\n",
    "        ],\n",
    "    types=['solid'],\n",
    "    colors=[[0.75, 0.1, 0.1]],\n",
    "    cs=True,\n",
    "    tool=True,\n",
    "    pointsize=2,\n",
    "    tool_pose=0\n",
    "    )"
   ]
  },
  {
   "cell_type": "markdown",
   "metadata": {},
   "source": [
    "Here the resulting mesh is visualized."
   ]
  },
  {
   "cell_type": "code",
   "execution_count": 11,
   "metadata": {},
   "outputs": [],
   "source": [
    "visu.plot_pcd_mesh_grid(\n",
    "    objs=[\n",
    "        mesh,\n",
    "        ],\n",
    "    types=['wireframe'],\n",
    "    colors=[[0.75, 0.1, 0.1]],\n",
    "    cs=True,\n",
    "    tool=True,\n",
    "    pointsize=2,\n",
    "    tool_pose=4717\n",
    "    )"
   ]
  },
  {
   "cell_type": "markdown",
   "metadata": {},
   "source": [
    "Here the resulting voxel grid is visualized."
   ]
  },
  {
   "cell_type": "code",
   "execution_count": null,
   "metadata": {},
   "outputs": [],
   "source": [
    "visu.plot_pcd_mesh_grid(\n",
    "    objs=[\n",
    "        grid,\n",
    "        ],\n",
    "    types=['grid'],\n",
    "    colors=[[0.75, 0.1, 0.1]],\n",
    "    cs=True,\n",
    "    tool=True,\n",
    "    pointsize=2,\n",
    "    tool_pose=4717\n",
    "    )"
   ]
  }
 ],
 "metadata": {
  "interpreter": {
   "hash": "5c40a2d1dfa3899a8ae8896852313ccf0d0821a5b3f8c8bea5314d9c30ae7322"
  },
  "kernelspec": {
   "display_name": "Python 3.9.7 ('robotics')",
   "language": "python",
   "name": "python3"
  },
  "language_info": {
   "codemirror_mode": {
    "name": "ipython",
    "version": 3
   },
   "file_extension": ".py",
   "mimetype": "text/x-python",
   "name": "python",
   "nbconvert_exporter": "python",
   "pygments_lexer": "ipython3",
   "version": "3.9.12"
  },
  "orig_nbformat": 4
 },
 "nbformat": 4,
 "nbformat_minor": 2
}
