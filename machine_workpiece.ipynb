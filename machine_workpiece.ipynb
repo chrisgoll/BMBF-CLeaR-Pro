{
 "cells": [
  {
   "cell_type": "markdown",
   "metadata": {},
   "source": [
    "# This notebook demonstrates how a stock workpiece is beeing machined virtually"
   ]
  },
  {
   "cell_type": "markdown",
   "metadata": {},
   "source": [
    "First of all, all the necessary python libraries are imported. _clear_pro_ contains my own developed functions. _spatialmath_ is a library for spatial matrices."
   ]
  },
  {
   "cell_type": "code",
   "execution_count": 1,
   "metadata": {},
   "outputs": [
    {
     "name": "stdout",
     "output_type": "stream",
     "text": [
      "Jupyter environment detected. Enabling Open3D WebVisualizer.\n",
      "[Open3D INFO] WebRTC GUI backend enabled.\n",
      "[Open3D INFO] WebRTCWindowSystem: HTTP handshake server disabled.\n"
     ]
    }
   ],
   "source": [
    "import src.clear_pro as cp\n",
    "from spatialmath import *"
   ]
  },
  {
   "cell_type": "markdown",
   "metadata": {},
   "source": [
    "Then an ini-file is imported that contains the ideal/nominal robot model parameters. Ideal/nominal denotes the angle and lenght specifications as they are found in the robot data sheet for example."
   ]
  },
  {
   "cell_type": "code",
   "execution_count": null,
   "metadata": {},
   "outputs": [],
   "source": [
    "# instantiation of Parameter object\n",
    "parameters = cp.Parameters()\n",
    "parameters_ideal = parameters.read_parameters(\n",
    "    'data/parameter/ideal_parameters.ini'\n",
    "    )\n",
    "parameters_ideal.pretty_print()"
   ]
  },
  {
   "cell_type": "markdown",
   "metadata": {},
   "source": [
    "Following an ini-file containing the real/physical robot model parameters. Those parameters differ from the ideal/nominal parameters because of influences, such as manufacturing tolerances, assembly errors and thermal effects during operation."
   ]
  },
  {
   "cell_type": "code",
   "execution_count": null,
   "metadata": {},
   "outputs": [],
   "source": [
    "parameters_real = parameters.read_parameters(\n",
    "    'data/parameter/real_parameters.ini'\n",
    "    )\n",
    "# contrast variing parameters\n",
    "parameters.contrast_parameters(ideal=parameters_ideal, real=parameters_real)"
   ]
  },
  {
   "cell_type": "markdown",
   "metadata": {},
   "source": [
    "Next the stock workpiece _stock.stl_ is loaded and the result file for the machined workpiece is configured (_result.stl_). Also the position of the workpiece in the robot base frame is specified."
   ]
  },
  {
   "cell_type": "code",
   "execution_count": null,
   "metadata": {},
   "outputs": [],
   "source": [
    "# instantiation of Workpiece object\n",
    "workpiece = cp.Workpiece(\n",
    "    'data/stl/stock.stl',\n",
    "    'data/stl/result.stl',\n",
    "    SE3([1000e-3, 0, 1000e-3])*SE3.AngleAxis(0, [0, 0, 0], unit='deg')\n",
    "    )"
   ]
  },
  {
   "cell_type": "markdown",
   "metadata": {},
   "source": [
    "Then the tool properties are specified."
   ]
  },
  {
   "cell_type": "code",
   "execution_count": null,
   "metadata": {},
   "outputs": [],
   "source": [
    "# instantiation of Tool object\n",
    "tool = cp.Tool(\n",
    "    diameter=9,\n",
    "    flute_length=40     \n",
    ")"
   ]
  },
  {
   "cell_type": "markdown",
   "metadata": {},
   "source": [
    "Now the tool path is loaded. It is provided as an nc file, which was created with a CAD/CAM tool. This tool path is then transformed from the workpiece to the robot base frame using the workpiece position defined above."
   ]
  },
  {
   "cell_type": "code",
   "execution_count": null,
   "metadata": {},
   "outputs": [],
   "source": [
    "# instantiation of Toolpath object\n",
    "toolpath = cp.Toolpath()\n",
    "toolpath_w = toolpath.read_nc(\n",
    "    'data/toolpath/1_circle.nc'\n",
    "    )\n",
    "# transform toolpath from workpiece coordinate frame to robot base frame\n",
    "toolpath_rb = toolpath.transform_to_base(\n",
    "    toolpath_w, workpiece\n",
    "    )"
   ]
  },
  {
   "cell_type": "markdown",
   "metadata": {},
   "source": [
    "Finally the simulation is prepared providing the simulation class object with all the robot model parameters, the workpiece, the tool and the tool path."
   ]
  },
  {
   "cell_type": "code",
   "execution_count": null,
   "metadata": {},
   "outputs": [],
   "source": [
    "# instantiation of Simulation object\n",
    "simulation = cp.Simulation(\n",
    "    [parameters_ideal, parameters_real],\n",
    "    workpiece,\n",
    "    tool,\n",
    "    toolpath_rb,\n",
    "    import_precision=100\n",
    "    )"
   ]
  },
  {
   "cell_type": "markdown",
   "metadata": {},
   "source": [
    "Finally the material removal simulation is executed."
   ]
  },
  {
   "cell_type": "markdown",
   "metadata": {},
   "source": []
  },
  {
   "cell_type": "code",
   "execution_count": null,
   "metadata": {},
   "outputs": [],
   "source": [
    "pcd, mesh, grid = simulation.do_cut(\n",
    "    parameters_real,\n",
    "    is_pcd=True,\n",
    "    is_voxel_grid=True,\n",
    "    npoints=10000,\n",
    "    nvoxels=50,  \n",
    "    is_delete=True,  \n",
    "    is_print=True\n",
    "    ) "
   ]
  },
  {
   "cell_type": "markdown",
   "metadata": {},
   "source": [
    "Here the resulting point cloud is visualized."
   ]
  },
  {
   "cell_type": "markdown",
   "metadata": {},
   "source": []
  },
  {
   "cell_type": "code",
   "execution_count": null,
   "metadata": {},
   "outputs": [],
   "source": [
    "# instantiation of Visualization object\n",
    "visu = cp.Visualization(simulation, workpiece, tool)\n",
    "visu.plot_pcd_mesh_grid(\n",
    "    objs=[\n",
    "        pcd,\n",
    "        ],\n",
    "    types=['solid'],\n",
    "    colors=[[0.75, 0.1, 0.1]],\n",
    "    cs=True,\n",
    "    tool=True,\n",
    "    pointsize=2,\n",
    "    tool_pose=0\n",
    "    )"
   ]
  },
  {
   "cell_type": "markdown",
   "metadata": {},
   "source": [
    "Here the resulting mesh is visualized."
   ]
  },
  {
   "cell_type": "code",
   "execution_count": null,
   "metadata": {},
   "outputs": [],
   "source": [
    "visu.plot_pcd_mesh_grid(\n",
    "    objs=[\n",
    "        mesh,\n",
    "        ],\n",
    "    types=['wireframe'],\n",
    "    colors=[[0.75, 0.1, 0.1]],\n",
    "    cs=True,\n",
    "    tool=True,\n",
    "    pointsize=2,\n",
    "    tool_pose=4717\n",
    "    )"
   ]
  },
  {
   "cell_type": "markdown",
   "metadata": {},
   "source": [
    "Here the resulting voxel grid is visualized."
   ]
  },
  {
   "cell_type": "code",
   "execution_count": null,
   "metadata": {},
   "outputs": [],
   "source": [
    "visu.plot_pcd_mesh_grid(\n",
    "    objs=[\n",
    "        grid,\n",
    "        ],\n",
    "    types=['grid'],\n",
    "    colors=[[0.75, 0.1, 0.1]],\n",
    "    cs=True,\n",
    "    tool=True,\n",
    "    pointsize=2,\n",
    "    tool_pose=4717\n",
    "    )"
   ]
  }
 ],
 "metadata": {
  "interpreter": {
   "hash": "5c40a2d1dfa3899a8ae8896852313ccf0d0821a5b3f8c8bea5314d9c30ae7322"
  },
  "kernelspec": {
   "display_name": "Python 3.9.7 ('robotics')",
   "language": "python",
   "name": "python3"
  },
  "language_info": {
   "codemirror_mode": {
    "name": "ipython",
    "version": 3
   },
   "file_extension": ".py",
   "mimetype": "text/x-python",
   "name": "python",
   "nbconvert_exporter": "python",
   "pygments_lexer": "ipython3",
   "version": "3.9.12"
  },
  "orig_nbformat": 4
 },
 "nbformat": 4,
 "nbformat_minor": 2
}
