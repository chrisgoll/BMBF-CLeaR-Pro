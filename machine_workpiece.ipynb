{
 "cells": [
  {
   "cell_type": "markdown",
   "metadata": {},
   "source": [
    "# This notebook demonstrates how a stock workpiece is beeing machined virtually"
   ]
  },
  {
   "cell_type": "markdown",
   "metadata": {},
   "source": [
    "First of all, all the necessary python libraries are imported. _clear_pro_ contains my own developed functions. _spatialmath_ is a library for spatial matrices."
   ]
  },
  {
   "cell_type": "code",
   "execution_count": 1,
   "metadata": {},
   "outputs": [
    {
     "name": "stdout",
     "output_type": "stream",
     "text": [
      "Jupyter environment detected. Enabling Open3D WebVisualizer.\n",
      "[Open3D INFO] WebRTC GUI backend enabled.\n",
      "[Open3D INFO] WebRTCWindowSystem: HTTP handshake server disabled.\n"
     ]
    }
   ],
   "source": [
    "import src.clear_pro as cp\n",
    "from spatialmath import *"
   ]
  },
  {
   "cell_type": "markdown",
   "metadata": {},
   "source": [
    "Then an ini-file is imported that contains the ideal/nominal robot model parameters. Ideal/nominal denotes the angle and lenght specifications as they are found in the robot data sheet for example."
   ]
  },
  {
   "cell_type": "code",
   "execution_count": 2,
   "metadata": {},
   "outputs": [
    {
     "name": "stdout",
     "output_type": "stream",
     "text": [
      "Name       Value      Min      Max   Stderr     Vary     Expr Brute_Step\n",
      "a1           0.4     0.35     0.55     None    False     None     None\n",
      "a2          0.86     0.85     0.87     None    False     None     None\n",
      "a3         -0.21    -0.22     -0.2     None    False     None     None\n",
      "a4             0     -0.1      0.1     None    False     None     None\n",
      "a5             0     -0.1      0.1     None    False     None     None\n",
      "a6             0     -0.1      0.1     None    False     None     None\n",
      "alpha1       -90     -100      -80     None    False     None     None\n",
      "alpha2         0      -10       10     None    False     None     None\n",
      "alpha3        90       80      100     None    False     None     None\n",
      "alpha4        90       80      100     None    False     None     None\n",
      "alpha5       -90     -100      -80     None    False     None     None\n",
      "alpha6         0      -10       10     None    False     None     None\n",
      "baserx         0      -10       10     None    False     None     None\n",
      "basery         0      -10       10     None    False     None     None\n",
      "baserz         0      -10       10     None    False     None     None\n",
      "basetx         0     -0.1      0.1     None    False     None     None\n",
      "basety         0     -0.1      0.1     None    False     None     None\n",
      "basetz         0     -0.1      0.1     None    False     None     None\n",
      "d1          0.55     0.45     0.65     None    False     None     None\n",
      "d2             0     -0.1      0.1     None    False     None     None\n",
      "d3             0     -0.1      0.1     None    False     None     None\n",
      "d4         0.762    0.752    0.772     None    False     None     None\n",
      "d5             0     -0.1      0.1     None    False     None     None\n",
      "d6          0.21     0.11     0.31     None    False     None     None\n",
      "theta1         0      -10       10     None     True     None     None\n",
      "theta2       -90     -100      -80     None     True     None     None\n",
      "theta3       180      170      190     None     True     None     None\n",
      "theta4       180      170      190     None     True     None     None\n",
      "theta5         0      -10       10     None     True     None     None\n",
      "theta6       -90     -100      -80     None     True     None     None\n",
      "toolrx       -90     -100      -80     None    False     None     None\n",
      "toolry       -90     -100      -80     None    False     None     None\n",
      "toolrz         0      -10       10     None    False     None     None\n",
      "tooltx       0.1        0      0.2     None    False     None     None\n",
      "toolty      -0.3     -0.4     -0.2     None    False     None     None\n",
      "tooltz         0     -0.1      0.1     None    False     None     None\n"
     ]
    }
   ],
   "source": [
    "# instantiation of Parameter object\n",
    "parameters = cp.Parameters()\n",
    "parameters_ideal = parameters.read_parameters(\n",
    "    'data/parameter/ideal_parameters.ini'\n",
    "    )\n",
    "parameters_ideal.pretty_print()"
   ]
  },
  {
   "cell_type": "markdown",
   "metadata": {},
   "source": [
    "Following an ini-file containing the real/physical robot model parameters. Those parameters differ from the ideal/nominal parameters because of influences, such as manufacturing tolerances, assembly errors and thermal effects during operation."
   ]
  },
  {
   "cell_type": "code",
   "execution_count": 3,
   "metadata": {},
   "outputs": [
    {
     "name": "stdout",
     "output_type": "stream",
     "text": [
      "\n",
      "\n",
      "Parameters ideal / real:\n",
      "-----------------------------\n",
      "theta1: 0.000 / theta1: 0.000\n",
      "theta2: -90.000 / theta2: -90.000\n",
      "theta3: 180.000 / theta3: 180.000\n",
      "theta4: 180.000 / theta4: 180.000\n",
      "theta5: 0.000 / theta5: 0.000\n",
      "theta6: -90.000 / theta6: -90.000\n"
     ]
    }
   ],
   "source": [
    "parameters_real = parameters.read_parameters(\n",
    "    'data/parameter/real_parameters.ini'\n",
    "    )\n",
    "# contrast variing parameters\n",
    "parameters.contrast_parameters(ideal=parameters_ideal, real=parameters_real)"
   ]
  },
  {
   "cell_type": "markdown",
   "metadata": {},
   "source": [
    "Next the stock workpiece _stock.stl_ is loaded and the result file for the machined workpiece is configured (_result.stl_). Also the position of the workpiece in the robot base frame is specified."
   ]
  },
  {
   "cell_type": "code",
   "execution_count": 4,
   "metadata": {},
   "outputs": [
    {
     "name": "stdout",
     "output_type": "stream",
     "text": [
      "\n",
      "\n",
      "Workpiece class object instantiated\n"
     ]
    }
   ],
   "source": [
    "# instantiation of Workpiece object\n",
    "workpiece = cp.Workpiece(\n",
    "    'data/stl/stock.stl',\n",
    "    'data/stl/result.stl',\n",
    "    SE3([1000e-3, 0, 1000e-3])*SE3.AngleAxis(0, [0, 0, 0], unit='deg')\n",
    "    )"
   ]
  },
  {
   "cell_type": "markdown",
   "metadata": {},
   "source": [
    "Then the tool properties are specified."
   ]
  },
  {
   "cell_type": "code",
   "execution_count": 5,
   "metadata": {},
   "outputs": [
    {
     "name": "stdout",
     "output_type": "stream",
     "text": [
      "\n",
      "\n",
      "Tool class object instantiated\n"
     ]
    }
   ],
   "source": [
    "# instantiation of Tool object\n",
    "tool = cp.Tool(\n",
    "    diameter=9,\n",
    "    flute_length=40     \n",
    ")"
   ]
  },
  {
   "cell_type": "markdown",
   "metadata": {},
   "source": [
    "Now the tool path is loaded. It is provided as an nc file, which was created with a CAD/CAM tool. This tool path is then transformed from the workpiece to the robot base frame using the workpiece position defined above."
   ]
  },
  {
   "cell_type": "code",
   "execution_count": 6,
   "metadata": {},
   "outputs": [
    {
     "name": "stdout",
     "output_type": "stream",
     "text": [
      "\n",
      "\n",
      "NC program read in\n",
      "\n",
      "\n",
      "Toolpath transformed from workpiece frame to robot base frame\n"
     ]
    }
   ],
   "source": [
    "# instantiation of Toolpath object\n",
    "toolpath = cp.Toolpath()\n",
    "toolpath_w = toolpath.read_nc(\n",
    "    'data/toolpath/1_pose.nc'\n",
    "    )\n",
    "# transform toolpath from workpiece coordinate frame to robot base frame\n",
    "toolpath_rb = toolpath.transform_to_base(\n",
    "    toolpath_w, workpiece\n",
    "    )"
   ]
  },
  {
   "cell_type": "markdown",
   "metadata": {},
   "source": [
    "Finally the simulation is prepared providing the simulation class object with all the robot model parameters, the workpiece, the tool and the tool path."
   ]
  },
  {
   "cell_type": "code",
   "execution_count": 7,
   "metadata": {},
   "outputs": [
    {
     "name": "stdout",
     "output_type": "stream",
     "text": [
      "\n",
      "\n",
      "calculation time (inverse transformation): 0.002s\n",
      "\n",
      "\n",
      "Simulation class object instantiated\n"
     ]
    }
   ],
   "source": [
    "# instantiation of Simulation object\n",
    "simulation = cp.Simulation(\n",
    "    [parameters_ideal, parameters_real],\n",
    "    workpiece,\n",
    "    tool,\n",
    "    toolpath_rb,\n",
    "    import_precision=100\n",
    "    )"
   ]
  },
  {
   "cell_type": "markdown",
   "metadata": {},
   "source": [
    "Finally the material removal simulation is executed."
   ]
  },
  {
   "cell_type": "code",
   "execution_count": 8,
   "metadata": {},
   "outputs": [
    {
     "ename": "FileNotFoundError",
     "evalue": "Could not find module 'D:\\Berechnungen\\python\\projects\\BMBF-CLeaR-Pro\\data\\dll\removal_simulation_dll.dll' (or one of its dependencies). Try using the full path with constructor syntax.",
     "output_type": "error",
     "traceback": [
      "\u001b[1;31m---------------------------------------------------------------------------\u001b[0m",
      "\u001b[1;31mFileNotFoundError\u001b[0m                         Traceback (most recent call last)",
      "\u001b[1;32md:\\Berechnungen\\python\\projects\\BMBF-CLeaR-Pro\\machine_workpiece.ipynb Cell 17'\u001b[0m in \u001b[0;36m<cell line: 1>\u001b[1;34m()\u001b[0m\n\u001b[1;32m----> <a href='vscode-notebook-cell:/d%3A/Berechnungen/python/projects/BMBF-CLeaR-Pro/machine_workpiece.ipynb#ch0000017?line=0'>1</a>\u001b[0m pcd, mesh, grid \u001b[39m=\u001b[39m simulation\u001b[39m.\u001b[39;49mdo_cut(\n\u001b[0;32m      <a href='vscode-notebook-cell:/d%3A/Berechnungen/python/projects/BMBF-CLeaR-Pro/machine_workpiece.ipynb#ch0000017?line=1'>2</a>\u001b[0m     parameters_real,\n\u001b[0;32m      <a href='vscode-notebook-cell:/d%3A/Berechnungen/python/projects/BMBF-CLeaR-Pro/machine_workpiece.ipynb#ch0000017?line=2'>3</a>\u001b[0m     is_pcd\u001b[39m=\u001b[39;49m\u001b[39mTrue\u001b[39;49;00m,\n\u001b[0;32m      <a href='vscode-notebook-cell:/d%3A/Berechnungen/python/projects/BMBF-CLeaR-Pro/machine_workpiece.ipynb#ch0000017?line=3'>4</a>\u001b[0m     is_voxel_grid\u001b[39m=\u001b[39;49m\u001b[39mTrue\u001b[39;49;00m,\n\u001b[0;32m      <a href='vscode-notebook-cell:/d%3A/Berechnungen/python/projects/BMBF-CLeaR-Pro/machine_workpiece.ipynb#ch0000017?line=4'>5</a>\u001b[0m     npoints\u001b[39m=\u001b[39;49m\u001b[39m10000\u001b[39;49m,\n\u001b[0;32m      <a href='vscode-notebook-cell:/d%3A/Berechnungen/python/projects/BMBF-CLeaR-Pro/machine_workpiece.ipynb#ch0000017?line=5'>6</a>\u001b[0m     nvoxels\u001b[39m=\u001b[39;49m\u001b[39m50\u001b[39;49m,  \n\u001b[0;32m      <a href='vscode-notebook-cell:/d%3A/Berechnungen/python/projects/BMBF-CLeaR-Pro/machine_workpiece.ipynb#ch0000017?line=6'>7</a>\u001b[0m     is_delete\u001b[39m=\u001b[39;49m\u001b[39mTrue\u001b[39;49;00m,  \n\u001b[0;32m      <a href='vscode-notebook-cell:/d%3A/Berechnungen/python/projects/BMBF-CLeaR-Pro/machine_workpiece.ipynb#ch0000017?line=7'>8</a>\u001b[0m     is_print\u001b[39m=\u001b[39;49m\u001b[39mTrue\u001b[39;49;00m\n\u001b[0;32m      <a href='vscode-notebook-cell:/d%3A/Berechnungen/python/projects/BMBF-CLeaR-Pro/machine_workpiece.ipynb#ch0000017?line=8'>9</a>\u001b[0m     )\n",
      "File \u001b[1;32md:\\Berechnungen\\python\\projects\\BMBF-CLeaR-Pro\\src\\clear_pro.py:506\u001b[0m, in \u001b[0;36mSimulation.do_cut\u001b[1;34m(self, parameters, is_print, is_delete, is_pcd, is_voxel_grid, npoints, nvoxels)\u001b[0m\n\u001b[0;32m    <a href='file:///d%3A/Berechnungen/python/projects/BMBF-CLeaR-Pro/src/clear_pro.py?line=503'>504</a>\u001b[0m os\u001b[39m.\u001b[39mchdir(os\u001b[39m.\u001b[39mgetcwd()\u001b[39m+\u001b[39m\u001b[39m'\u001b[39m\u001b[39m/data/dll\u001b[39m\u001b[39m'\u001b[39m)    \n\u001b[0;32m    <a href='file:///d%3A/Berechnungen/python/projects/BMBF-CLeaR-Pro/src/clear_pro.py?line=504'>505</a>\u001b[0m \u001b[39m# invoke removal_simulation_dll\u001b[39;00m\n\u001b[1;32m--> <a href='file:///d%3A/Berechnungen/python/projects/BMBF-CLeaR-Pro/src/clear_pro.py?line=505'>506</a>\u001b[0m mydll \u001b[39m=\u001b[39m cdll\u001b[39m.\u001b[39;49mLoadLibrary(\u001b[39m'\u001b[39;49m\u001b[39mD:\u001b[39;49m\u001b[39m\\\u001b[39;49m\u001b[39mBerechnungen\u001b[39;49m\u001b[39m\\\u001b[39;49m\u001b[39mpython\u001b[39;49m\u001b[39m\\\u001b[39;49m\u001b[39mprojects\u001b[39;49m\u001b[39m\\\u001b[39;49m\u001b[39mBMBF-CLeaR-Pro\u001b[39;49m\u001b[39m\\\u001b[39;49m\u001b[39mdata\u001b[39;49m\u001b[39m\\\u001b[39;49m\u001b[39mdll\u001b[39;49m\u001b[39m\\r\u001b[39;49;00m\u001b[39memoval_simulation_dll.dll\u001b[39;49m\u001b[39m'\u001b[39;49m)\n\u001b[0;32m    <a href='file:///d%3A/Berechnungen/python/projects/BMBF-CLeaR-Pro/src/clear_pro.py?line=506'>507</a>\u001b[0m removal_simulation \u001b[39m=\u001b[39m mydll\u001b[39m.\u001b[39mremoval_simulation\n\u001b[0;32m    <a href='file:///d%3A/Berechnungen/python/projects/BMBF-CLeaR-Pro/src/clear_pro.py?line=507'>508</a>\u001b[0m \u001b[39m# removal simulation(\u001b[39;00m\n\u001b[0;32m    <a href='file:///d%3A/Berechnungen/python/projects/BMBF-CLeaR-Pro/src/clear_pro.py?line=508'>509</a>\u001b[0m \u001b[39m# const char* initial_workpiece_filename,\u001b[39;00m\n\u001b[0;32m    <a href='file:///d%3A/Berechnungen/python/projects/BMBF-CLeaR-Pro/src/clear_pro.py?line=509'>510</a>\u001b[0m \u001b[39m# const char* final_workpiece_filename,\u001b[39;00m\n\u001b[1;32m   (...)\u001b[0m\n\u001b[0;32m    <a href='file:///d%3A/Berechnungen/python/projects/BMBF-CLeaR-Pro/src/clear_pro.py?line=515'>516</a>\u001b[0m \u001b[39m# const int rowcount\u001b[39;00m\n\u001b[0;32m    <a href='file:///d%3A/Berechnungen/python/projects/BMBF-CLeaR-Pro/src/clear_pro.py?line=516'>517</a>\u001b[0m \u001b[39m# )\u001b[39;00m\n",
      "File \u001b[1;32mD:\\Software\\Miniconda\\envs\\bmbf-ki\\lib\\ctypes\\__init__.py:460\u001b[0m, in \u001b[0;36mLibraryLoader.LoadLibrary\u001b[1;34m(self, name)\u001b[0m\n\u001b[0;32m    <a href='file:///d%3A/Software/Miniconda/envs/bmbf-ki/lib/ctypes/__init__.py?line=458'>459</a>\u001b[0m \u001b[39mdef\u001b[39;00m \u001b[39mLoadLibrary\u001b[39m(\u001b[39mself\u001b[39m, name):\n\u001b[1;32m--> <a href='file:///d%3A/Software/Miniconda/envs/bmbf-ki/lib/ctypes/__init__.py?line=459'>460</a>\u001b[0m     \u001b[39mreturn\u001b[39;00m \u001b[39mself\u001b[39;49m\u001b[39m.\u001b[39;49m_dlltype(name)\n",
      "File \u001b[1;32mD:\\Software\\Miniconda\\envs\\bmbf-ki\\lib\\ctypes\\__init__.py:382\u001b[0m, in \u001b[0;36mCDLL.__init__\u001b[1;34m(self, name, mode, handle, use_errno, use_last_error, winmode)\u001b[0m\n\u001b[0;32m    <a href='file:///d%3A/Software/Miniconda/envs/bmbf-ki/lib/ctypes/__init__.py?line=378'>379</a>\u001b[0m \u001b[39mself\u001b[39m\u001b[39m.\u001b[39m_FuncPtr \u001b[39m=\u001b[39m _FuncPtr\n\u001b[0;32m    <a href='file:///d%3A/Software/Miniconda/envs/bmbf-ki/lib/ctypes/__init__.py?line=380'>381</a>\u001b[0m \u001b[39mif\u001b[39;00m handle \u001b[39mis\u001b[39;00m \u001b[39mNone\u001b[39;00m:\n\u001b[1;32m--> <a href='file:///d%3A/Software/Miniconda/envs/bmbf-ki/lib/ctypes/__init__.py?line=381'>382</a>\u001b[0m     \u001b[39mself\u001b[39m\u001b[39m.\u001b[39m_handle \u001b[39m=\u001b[39m _dlopen(\u001b[39mself\u001b[39;49m\u001b[39m.\u001b[39;49m_name, mode)\n\u001b[0;32m    <a href='file:///d%3A/Software/Miniconda/envs/bmbf-ki/lib/ctypes/__init__.py?line=382'>383</a>\u001b[0m \u001b[39melse\u001b[39;00m:\n\u001b[0;32m    <a href='file:///d%3A/Software/Miniconda/envs/bmbf-ki/lib/ctypes/__init__.py?line=383'>384</a>\u001b[0m     \u001b[39mself\u001b[39m\u001b[39m.\u001b[39m_handle \u001b[39m=\u001b[39m handle\n",
      "\u001b[1;31mFileNotFoundError\u001b[0m: Could not find module 'D:\\Berechnungen\\python\\projects\\BMBF-CLeaR-Pro\\data\\dll\removal_simulation_dll.dll' (or one of its dependencies). Try using the full path with constructor syntax."
     ]
    }
   ],
   "source": [
    "pcd, mesh, grid = simulation.do_cut(\n",
    "    parameters_real,\n",
    "    is_pcd=True,\n",
    "    is_voxel_grid=True,\n",
    "    npoints=10000,\n",
    "    nvoxels=50,  \n",
    "    is_delete=True,  \n",
    "    is_print=True\n",
    "    ) "
   ]
  },
  {
   "cell_type": "markdown",
   "metadata": {},
   "source": [
    "Here the resulting point cloud is visualized."
   ]
  },
  {
   "cell_type": "code",
   "execution_count": null,
   "metadata": {},
   "outputs": [],
   "source": [
    "# instantiation of Visualization object\n",
    "visu = cp.Visualization(simulation, workpiece, tool)\n",
    "visu.plot_pcd_mesh_grid(\n",
    "    objs=[\n",
    "        pcd,\n",
    "        ],\n",
    "    types=['solid'],\n",
    "    colors=[[0.75, 0.1, 0.1]],\n",
    "    cs=True,\n",
    "    tool=True,\n",
    "    pointsize=2,\n",
    "    tool_pose=0\n",
    "    )"
   ]
  },
  {
   "cell_type": "markdown",
   "metadata": {},
   "source": [
    "Here the resulting mesh is visualized."
   ]
  },
  {
   "cell_type": "code",
   "execution_count": null,
   "metadata": {},
   "outputs": [],
   "source": [
    "visu.plot_pcd_mesh_grid(\n",
    "    objs=[\n",
    "        mesh,\n",
    "        ],\n",
    "    types=['wireframe'],\n",
    "    colors=[[0.75, 0.1, 0.1]],\n",
    "    cs=True,\n",
    "    tool=True,\n",
    "    pointsize=2,\n",
    "    tool_pose=4717\n",
    "    )"
   ]
  },
  {
   "cell_type": "markdown",
   "metadata": {},
   "source": [
    "Here the resulting voxel grid is visualized."
   ]
  },
  {
   "cell_type": "code",
   "execution_count": null,
   "metadata": {},
   "outputs": [],
   "source": [
    "visu.plot_pcd_mesh_grid(\n",
    "    objs=[\n",
    "        grid,\n",
    "        ],\n",
    "    types=['grid'],\n",
    "    colors=[[0.75, 0.1, 0.1]],\n",
    "    cs=True,\n",
    "    tool=True,\n",
    "    pointsize=2,\n",
    "    tool_pose=4717\n",
    "    )"
   ]
  }
 ],
 "metadata": {
  "interpreter": {
   "hash": "5c40a2d1dfa3899a8ae8896852313ccf0d0821a5b3f8c8bea5314d9c30ae7322"
  },
  "kernelspec": {
   "display_name": "Python 3.9.7 ('robotics')",
   "language": "python",
   "name": "python3"
  },
  "language_info": {
   "codemirror_mode": {
    "name": "ipython",
    "version": 3
   },
   "file_extension": ".py",
   "mimetype": "text/x-python",
   "name": "python",
   "nbconvert_exporter": "python",
   "pygments_lexer": "ipython3",
   "version": "3.9.12"
  },
  "orig_nbformat": 4
 },
 "nbformat": 4,
 "nbformat_minor": 2
}
